{
 "cells": [
  {
   "cell_type": "code",
   "execution_count": 1,
   "metadata": {},
   "outputs": [],
   "source": [
    "#Law of Large Numbers\n",
    "#lim X_n = E(X) as n to inf\n",
    "\n",
    "#average across the samples from observations goes to the expected value of the observations"
   ]
  },
  {
   "cell_type": "code",
   "execution_count": 8,
   "metadata": {},
   "outputs": [],
   "source": [
    "import numpy as np\n",
    "from numpy.random import randn\n",
    "import math"
   ]
  },
  {
   "cell_type": "code",
   "execution_count": 35,
   "metadata": {},
   "outputs": [
    {
     "name": "stdout",
     "output_type": "stream",
     "text": [
      "50.0\n",
      "60.0\n",
      "67.7\n",
      "68.65\n",
      "68.27\n",
      "68.2891\n"
     ]
    }
   ],
   "source": [
    "\n",
    "N = [10, 100, 1000, 10000, 100000, 1000000]\n",
    "for i in N:\n",
    "    counter = 0\n",
    "    for j in range(i):\n",
    "        x = randn()\n",
    "        if abs(x)<=1:\n",
    "            counter = counter+1\n",
    "    mean = counter/i*100\n",
    "    print(mean)"
   ]
  },
  {
   "cell_type": "code",
   "execution_count": 34,
   "metadata": {},
   "outputs": [
    {
     "name": "stdout",
     "output_type": "stream",
     "text": [
      "0.9\n",
      "0.68\n",
      "0.701\n",
      "0.6788\n",
      "0.68251\n",
      "0.682995\n"
     ]
    }
   ],
   "source": [
    "J = [10, 100, 1000, 10000, 100000, 1000000]\n",
    "for l in J:\n",
    "    k = 0\n",
    "    for z in randn(l):\n",
    "        if z<1 and z>-1:\n",
    "            k=k+1\n",
    "    answer = k/l\n",
    "    print(answer)"
   ]
  },
  {
   "cell_type": "code",
   "execution_count": 15,
   "metadata": {},
   "outputs": [],
   "source": [
    "#SOLUTION"
   ]
  },
  {
   "cell_type": "code",
   "execution_count": 33,
   "metadata": {},
   "outputs": [
    {
     "name": "stdout",
     "output_type": "stream",
     "text": [
      "0.7\n",
      "0.65\n",
      "0.689\n",
      "0.6882\n"
     ]
    }
   ],
   "source": [
    "N = [10, 100, 1000, 10000]\n",
    "for k in N:\n",
    "    counter=0\n",
    "    for i in randn(k):\n",
    "        if (i>-1 and i<1):\n",
    "            counter = counter + 1\n",
    "    print(counter/k)\n",
    "   "
   ]
  },
  {
   "cell_type": "code",
   "execution_count": null,
   "metadata": {},
   "outputs": [],
   "source": []
  }
 ],
 "metadata": {
  "kernelspec": {
   "display_name": "Python 3",
   "language": "python",
   "name": "python3"
  },
  "language_info": {
   "codemirror_mode": {
    "name": "ipython",
    "version": 3
   },
   "file_extension": ".py",
   "mimetype": "text/x-python",
   "name": "python",
   "nbconvert_exporter": "python",
   "pygments_lexer": "ipython3",
   "version": "3.8.3"
  }
 },
 "nbformat": 4,
 "nbformat_minor": 4
}
