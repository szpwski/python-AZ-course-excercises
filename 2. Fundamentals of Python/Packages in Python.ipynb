{
 "cells": [
  {
   "cell_type": "markdown",
   "metadata": {},
   "source": [
    "A *module* is simply a file containing Python definitions, functions and statements. Putting code into modules is useful because of the ability to import the module functionality into your script or Ipython session"
   ]
  },
  {
   "cell_type": "markdown",
   "metadata": {},
   "source": [
    "A *package* is just a way of collecting modules together within a single tree-like hierarchy. Very complex packages like *NumPy or *SciPy have hundreds of individual modules so putting them into a directory-like structure keeps things organized and avoids name collisions"
   ]
  },
  {
   "cell_type": "markdown",
   "metadata": {},
   "source": [
    "THE STEPS\n",
    "1. Find package (optional)\n",
    "2. Install package\n",
    "3. Import package or import function"
   ]
  },
  {
   "cell_type": "code",
   "execution_count": 1,
   "metadata": {},
   "outputs": [],
   "source": [
    "#import -package- \n",
    "#from -package.module- #import -function-"
   ]
  },
  {
   "cell_type": "code",
   "execution_count": null,
   "metadata": {},
   "outputs": [],
   "source": []
  }
 ],
 "metadata": {
  "kernelspec": {
   "display_name": "Python 3",
   "language": "python",
   "name": "python3"
  },
  "language_info": {
   "codemirror_mode": {
    "name": "ipython",
    "version": 3
   },
   "file_extension": ".py",
   "mimetype": "text/x-python",
   "name": "python",
   "nbconvert_exporter": "python",
   "pygments_lexer": "ipython3",
   "version": "3.8.3"
  }
 },
 "nbformat": 4,
 "nbformat_minor": 4
}
