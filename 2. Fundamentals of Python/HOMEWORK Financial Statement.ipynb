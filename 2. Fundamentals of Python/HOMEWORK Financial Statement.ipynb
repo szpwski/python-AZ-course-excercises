{
 "cells": [
  {
   "cell_type": "code",
   "execution_count": 4,
   "metadata": {},
   "outputs": [],
   "source": [
    "#Data \n",
    "revenue = [14574.49, 7606.46, 8611.41, 9175.41, 8058.65, 8105.44, 11496.28, 9766.09, 10305.32, 14379.96, 10713.97, 15433.50]\n",
    "expenses = [12051.82, 5695.07, 12319.20, 12089.72, 8658.57, 840.20, 3285.73, 5821.12, 6976.93, 16618.61, 10054.37, 3803.96]"
   ]
  },
  {
   "cell_type": "markdown",
   "metadata": {},
   "source": [
    "--- Profit for each month ---"
   ]
  },
  {
   "cell_type": "code",
   "execution_count": 25,
   "metadata": {},
   "outputs": [
    {
     "name": "stdout",
     "output_type": "stream",
     "text": [
      "[2523, 1911, -3708, -2914, -600, 7265, 8211, 3945, 3328, -2239, 660, 11630]\n"
     ]
    }
   ],
   "source": [
    "profit_month = []\n",
    "for i in range(0,len(revenue)):\n",
    "        profit_month.append(round(revenue[i] - expenses[i]))\n",
    "    \n",
    "print(profit_month)"
   ]
  },
  {
   "cell_type": "markdown",
   "metadata": {},
   "source": [
    "--- Profit after tax for each month ---"
   ]
  },
  {
   "cell_type": "code",
   "execution_count": 26,
   "metadata": {},
   "outputs": [
    {
     "data": {
      "text/plain": [
       "[1766, 1338, -2596, -2040, -420, 5086, 5748, 2762, 2330, -1567, 462, 8141]"
      ]
     },
     "execution_count": 26,
     "metadata": {},
     "output_type": "execute_result"
    }
   ],
   "source": [
    "profit_tax = []\n",
    "for i in range(0,len(revenue)):\n",
    "    profit_tax.append(round(profit_month[i]*0.7))\n",
    "profit_tax"
   ]
  },
  {
   "cell_type": "markdown",
   "metadata": {},
   "source": [
    "--- Profit margin for each month ---"
   ]
  },
  {
   "cell_type": "code",
   "execution_count": 27,
   "metadata": {},
   "outputs": [
    {
     "data": {
      "text/plain": [
       "[12, 18, -30, -22, -5, 63, 50, 28, 23, -11, 4, 53]"
      ]
     },
     "execution_count": 27,
     "metadata": {},
     "output_type": "execute_result"
    }
   ],
   "source": [
    "profit_margin = []\n",
    "for i in range(0, len(revenue)):\n",
    "    profit_margin.append(round(profit_tax[i]/revenue[i]*100))\n",
    "\n",
    "profit_margin"
   ]
  },
  {
   "cell_type": "markdown",
   "metadata": {},
   "source": [
    "--- packages ---"
   ]
  },
  {
   "cell_type": "code",
   "execution_count": 28,
   "metadata": {},
   "outputs": [],
   "source": [
    "import numpy as np"
   ]
  },
  {
   "cell_type": "markdown",
   "metadata": {},
   "source": [
    "--- Good months ---"
   ]
  },
  {
   "cell_type": "code",
   "execution_count": 34,
   "metadata": {},
   "outputs": [
    {
     "data": {
      "text/plain": [
       "[0, 5, 6, 7, 8, 11]"
      ]
     },
     "execution_count": 34,
     "metadata": {},
     "output_type": "execute_result"
    }
   ],
   "source": [
    "profit_tax_a = np.array(profit_tax)\n",
    "good_months = []\n",
    "for i in range(0, len(revenue)):\n",
    "    if profit_tax[i]>profit_tax_a.mean():\n",
    "        good_months.append(i) \n",
    "        \n",
    "good_months"
   ]
  },
  {
   "cell_type": "markdown",
   "metadata": {},
   "source": [
    "--- Bad months ---"
   ]
  },
  {
   "cell_type": "code",
   "execution_count": 35,
   "metadata": {},
   "outputs": [
    {
     "data": {
      "text/plain": [
       "[1, 2, 3, 4, 9, 10]"
      ]
     },
     "execution_count": 35,
     "metadata": {},
     "output_type": "execute_result"
    }
   ],
   "source": [
    "bad_months = []\n",
    "for i in range(0, len(revenue)):\n",
    "    if profit_tax[i]<profit_tax_a.mean():\n",
    "        bad_months.append(i)\n",
    "        \n",
    "bad_months"
   ]
  },
  {
   "cell_type": "markdown",
   "metadata": {},
   "source": [
    "--- The best month ---"
   ]
  },
  {
   "cell_type": "code",
   "execution_count": 38,
   "metadata": {},
   "outputs": [
    {
     "data": {
      "text/plain": [
       "11"
      ]
     },
     "execution_count": 38,
     "metadata": {},
     "output_type": "execute_result"
    }
   ],
   "source": [
    "the_best_month = profit_tax.index(profit_tax_a.max())\n",
    "the_best_month"
   ]
  },
  {
   "cell_type": "markdown",
   "metadata": {},
   "source": [
    "--- The worst month ---"
   ]
  },
  {
   "cell_type": "code",
   "execution_count": 39,
   "metadata": {},
   "outputs": [
    {
     "data": {
      "text/plain": [
       "2"
      ]
     },
     "execution_count": 39,
     "metadata": {},
     "output_type": "execute_result"
    }
   ],
   "source": [
    "the_worst_month = profit_tax.index(profit_tax_a.min())\n",
    "the_worst_month"
   ]
  }
 ],
 "metadata": {
  "kernelspec": {
   "display_name": "Python 3",
   "language": "python",
   "name": "python3"
  },
  "language_info": {
   "codemirror_mode": {
    "name": "ipython",
    "version": 3
   },
   "file_extension": ".py",
   "mimetype": "text/x-python",
   "name": "python",
   "nbconvert_exporter": "python",
   "pygments_lexer": "ipython3",
   "version": "3.8.3"
  }
 },
 "nbformat": 4,
 "nbformat_minor": 1
}
